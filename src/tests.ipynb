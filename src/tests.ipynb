{
 "cells": [
  {
   "cell_type": "code",
   "execution_count": 2,
   "id": "818c96d0",
   "metadata": {},
   "outputs": [],
   "source": [
    "import os\n",
    "import inspect\n",
    "\n",
    "def dir_path():\n",
    "    # Gets the directory where this function is called from\n",
    "    frame = inspect.currentframe()\n",
    "    filename = frame.f_code.co_filename\n",
    "    return os.path.dirname(os.path.abspath(filename))"
   ]
  },
  {
   "cell_type": "code",
   "execution_count": 3,
   "id": "c593e5f8",
   "metadata": {},
   "outputs": [
    {
     "data": {
      "text/plain": [
       "'/var/folders/sm/t3nyf7kx5dg_szznqss_p20h0000gn/T/ipykernel_42512'"
      ]
     },
     "execution_count": 3,
     "metadata": {},
     "output_type": "execute_result"
    }
   ],
   "source": [
    "dir_path()"
   ]
  },
  {
   "cell_type": "code",
   "execution_count": null,
   "id": "8f0f429c",
   "metadata": {},
   "outputs": [],
   "source": []
  }
 ],
 "metadata": {
  "kernelspec": {
   "display_name": ".venv",
   "language": "python",
   "name": "python3"
  },
  "language_info": {
   "codemirror_mode": {
    "name": "ipython",
    "version": 3
   },
   "file_extension": ".py",
   "mimetype": "text/x-python",
   "name": "python",
   "nbconvert_exporter": "python",
   "pygments_lexer": "ipython3",
   "version": "3.11.1"
  }
 },
 "nbformat": 4,
 "nbformat_minor": 5
}
